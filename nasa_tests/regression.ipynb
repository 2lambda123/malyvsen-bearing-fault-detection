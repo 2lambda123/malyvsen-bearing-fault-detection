{
 "cells": [
  {
   "cell_type": "code",
   "execution_count": null,
   "metadata": {},
   "outputs": [
    {
     "name": "stderr",
     "output_type": "stream",
     "text": [
      "Using TensorFlow backend.\n",
      "/terabyte/creative/coding/ai/bearing/bearing_venv/lib/python3.6/site-packages/sklearn/externals/joblib/__init__.py:15: DeprecationWarning: sklearn.externals.joblib is deprecated in 0.21 and will be removed in 0.23. Please import this functionality directly from joblib, which can be installed with: pip install joblib. If this warning is raised when loading pickled models, you may need to re-serialize those models with scikit-learn 0.21+.\n",
      "  warnings.warn(msg, category=DeprecationWarning)\n",
      "WARNING: Logging before flag parsing goes to stderr.\n",
      "W0626 21:32:21.891444 140042365060928 data_sequence.py:152] DataSequence 'train': the out_channel 2 is not in in_channels. It will not be normalized!\n",
      "W0626 21:32:21.892291 140042365060928 data_sequence.py:152] DataSequence 'test': the out_channel 2 is not in in_channels. It will not be normalized!\n",
      "W0626 21:32:21.892749 140042365060928 data_sequence.py:152] DataSequence 'val': the out_channel 2 is not in in_channels. It will not be normalized!\n",
      "W0626 21:32:21.893181 140042365060928 deprecation_wrapper.py:119] From /terabyte/creative/coding/ai/bearing/bearing_venv/lib/python3.6/site-packages/keras/backend/tensorflow_backend.py:74: The name tf.get_default_graph is deprecated. Please use tf.compat.v1.get_default_graph instead.\n",
      "\n",
      "W0626 21:32:21.894689 140042365060928 deprecation_wrapper.py:119] From /terabyte/creative/coding/ai/bearing/bearing_venv/lib/python3.6/site-packages/keras/backend/tensorflow_backend.py:517: The name tf.placeholder is deprecated. Please use tf.compat.v1.placeholder instead.\n",
      "\n",
      "W0626 21:32:21.896469 140042365060928 deprecation_wrapper.py:119] From /terabyte/creative/coding/ai/bearing/bearing_venv/lib/python3.6/site-packages/keras/backend/tensorflow_backend.py:4138: The name tf.random_uniform is deprecated. Please use tf.random.uniform instead.\n",
      "\n",
      "W0626 21:32:22.034439 140042365060928 deprecation_wrapper.py:119] From /terabyte/creative/coding/ai/bearing/bearing_venv/lib/python3.6/site-packages/keras/optimizers.py:790: The name tf.train.Optimizer is deprecated. Please use tf.compat.v1.train.Optimizer instead.\n",
      "\n",
      "W0626 21:32:40.699547 140042365060928 deprecation.py:323] From /terabyte/creative/coding/ai/bearing/bearing_venv/lib/python3.6/site-packages/tensorflow/python/ops/math_grad.py:1250: add_dispatch_support.<locals>.wrapper (from tensorflow.python.ops.array_ops) is deprecated and will be removed in a future version.\n",
      "Instructions for updating:\n",
      "Use tf.where in 2.0, which has the same broadcast rule as np.where\n",
      "W0626 21:32:41.088617 140042365060928 deprecation_wrapper.py:119] From /terabyte/creative/coding/ai/bearing/bearing_venv/lib/python3.6/site-packages/keras/backend/tensorflow_backend.py:986: The name tf.assign_add is deprecated. Please use tf.compat.v1.assign_add instead.\n",
      "\n",
      "W0626 21:32:41.145119 140042365060928 deprecation_wrapper.py:119] From /terabyte/creative/coding/ai/bearing/bearing_venv/lib/python3.6/site-packages/keras/backend/tensorflow_backend.py:973: The name tf.assign is deprecated. Please use tf.compat.v1.assign instead.\n",
      "\n"
     ]
    }
   ],
   "source": [
    "import pprint\n",
    "import os\n",
    "from analysta.cli.model import run_single\n",
    "\n",
    "if not os.path.exists('results'):\n",
    "    os.mkdir('results')\n",
    "\n",
    "config, _, _ = run_single('lstm_config.json', results_dir='results')\n",
    "\n",
    "pprint.pprint(config['out.model'])"
   ]
  }
 ],
 "metadata": {
  "kernelspec": {
   "display_name": "bearing_venv",
   "language": "python",
   "name": "bearing_venv"
  },
  "language_info": {
   "codemirror_mode": {
    "name": "ipython",
    "version": 3
   },
   "file_extension": ".py",
   "mimetype": "text/x-python",
   "name": "python",
   "nbconvert_exporter": "python",
   "pygments_lexer": "ipython3",
   "version": "3.6.8"
  }
 },
 "nbformat": 4,
 "nbformat_minor": 2
}
